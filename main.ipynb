{
 "cells": [
  {
   "cell_type": "markdown",
   "metadata": {},
   "source": [
    "# Persistence analysis\n",
    "\n",
    "En este proyecto se utilizarán herramientas de visualización/exploración de datos: encaje de Takens, complejos simpliciales, homología persistente, diagramas persistentes, códigos de barras, diagramas de densidad e imágenes de persistencia para estudiar una serie de tiempo.\n",
    "\n",
    "Realizaremos un análisis exploratorio del conjunto de datos proporcionado. El objetivo es comprender y poder explicar los patrones que observa en el conjunto de datos.\n",
    "Entrega un reporte "
   ]
  },
  {
   "cell_type": "markdown",
   "metadata": {},
   "source": [
    "### Import libraries"
   ]
  },
  {
   "cell_type": "code",
   "execution_count": 9,
   "metadata": {},
   "outputs": [],
   "source": [
    "import pandas as pd\n",
    "import numpy as np\n",
    "import matplotlib.pyplot as plt\n",
    "from ripser import ripser\n",
    "from persim import plot_diagrams\n",
    "import matplotlib\n",
    "import seaborn as sb\n",
    "import matplotlib.cm as cm\n",
    "import matplotlib.patches as patches\n",
    "plt.rcParams.update(plt.rcParamsDefault)\n",
    "from gtda.time_series import SingleTakensEmbedding, takens_embedding_optimal_parameters\n",
    "from gtda.homology import VietorisRipsPersistence\n",
    "from gtda.plotting import plot_point_cloud\n",
    "import plotly.graph_objects as go\n",
    "from nolitsa import dimension, delay\n",
    "from sklearn.decomposition import PCA\n",
    "from scipy.spatial.distance import squareform,pdist\n",
    "import math\n",
    "\n",
    "sb.set(style=\"whitegrid\")"
   ]
  },
  {
   "cell_type": "markdown",
   "metadata": {},
   "source": [
    "### Data"
   ]
  },
  {
   "cell_type": "code",
   "execution_count": 2,
   "metadata": {},
   "outputs": [
    {
     "data": {
      "text/html": [
       "<div>\n",
       "<style scoped>\n",
       "    .dataframe tbody tr th:only-of-type {\n",
       "        vertical-align: middle;\n",
       "    }\n",
       "\n",
       "    .dataframe tbody tr th {\n",
       "        vertical-align: top;\n",
       "    }\n",
       "\n",
       "    .dataframe thead th {\n",
       "        text-align: right;\n",
       "    }\n",
       "</style>\n",
       "<table border=\"1\" class=\"dataframe\">\n",
       "  <thead>\n",
       "    <tr style=\"text-align: right;\">\n",
       "      <th></th>\n",
       "      <th>Year</th>\n",
       "      <th>JAN</th>\n",
       "      <th>FEB</th>\n",
       "      <th>MAR</th>\n",
       "      <th>APR</th>\n",
       "      <th>MAY</th>\n",
       "      <th>JUN</th>\n",
       "      <th>JUL</th>\n",
       "      <th>AUG</th>\n",
       "      <th>SEP</th>\n",
       "      <th>OCT</th>\n",
       "      <th>NOV</th>\n",
       "      <th>DEC</th>\n",
       "    </tr>\n",
       "  </thead>\n",
       "  <tbody>\n",
       "    <tr>\n",
       "      <th>0</th>\n",
       "      <td>1870</td>\n",
       "      <td>-1.00</td>\n",
       "      <td>-1.20</td>\n",
       "      <td>-0.83</td>\n",
       "      <td>-0.81</td>\n",
       "      <td>-1.27</td>\n",
       "      <td>-1.08</td>\n",
       "      <td>-1.04</td>\n",
       "      <td>-0.88</td>\n",
       "      <td>-0.53</td>\n",
       "      <td>-0.92</td>\n",
       "      <td>-0.79</td>\n",
       "      <td>-0.79</td>\n",
       "    </tr>\n",
       "    <tr>\n",
       "      <th>1</th>\n",
       "      <td>1871</td>\n",
       "      <td>-0.25</td>\n",
       "      <td>-0.58</td>\n",
       "      <td>-0.43</td>\n",
       "      <td>-0.50</td>\n",
       "      <td>-0.70</td>\n",
       "      <td>-0.53</td>\n",
       "      <td>-0.60</td>\n",
       "      <td>-0.33</td>\n",
       "      <td>-0.24</td>\n",
       "      <td>-0.33</td>\n",
       "      <td>-0.31</td>\n",
       "      <td>-0.58</td>\n",
       "    </tr>\n",
       "    <tr>\n",
       "      <th>2</th>\n",
       "      <td>1872</td>\n",
       "      <td>-0.72</td>\n",
       "      <td>-0.62</td>\n",
       "      <td>-0.50</td>\n",
       "      <td>-0.77</td>\n",
       "      <td>-0.62</td>\n",
       "      <td>-0.52</td>\n",
       "      <td>-0.32</td>\n",
       "      <td>-0.85</td>\n",
       "      <td>-1.02</td>\n",
       "      <td>-0.94</td>\n",
       "      <td>-0.79</td>\n",
       "      <td>-0.88</td>\n",
       "    </tr>\n",
       "    <tr>\n",
       "      <th>3</th>\n",
       "      <td>1873</td>\n",
       "      <td>-0.78</td>\n",
       "      <td>-1.01</td>\n",
       "      <td>-1.31</td>\n",
       "      <td>-0.67</td>\n",
       "      <td>-0.53</td>\n",
       "      <td>-0.48</td>\n",
       "      <td>-0.58</td>\n",
       "      <td>-0.39</td>\n",
       "      <td>-0.34</td>\n",
       "      <td>-0.78</td>\n",
       "      <td>-0.77</td>\n",
       "      <td>-0.70</td>\n",
       "    </tr>\n",
       "    <tr>\n",
       "      <th>4</th>\n",
       "      <td>1874</td>\n",
       "      <td>-0.93</td>\n",
       "      <td>-1.06</td>\n",
       "      <td>-1.40</td>\n",
       "      <td>-0.94</td>\n",
       "      <td>-0.86</td>\n",
       "      <td>-0.72</td>\n",
       "      <td>-1.00</td>\n",
       "      <td>-1.05</td>\n",
       "      <td>-1.13</td>\n",
       "      <td>-1.25</td>\n",
       "      <td>-1.33</td>\n",
       "      <td>-1.14</td>\n",
       "    </tr>\n",
       "    <tr>\n",
       "      <th>...</th>\n",
       "      <td>...</td>\n",
       "      <td>...</td>\n",
       "      <td>...</td>\n",
       "      <td>...</td>\n",
       "      <td>...</td>\n",
       "      <td>...</td>\n",
       "      <td>...</td>\n",
       "      <td>...</td>\n",
       "      <td>...</td>\n",
       "      <td>...</td>\n",
       "      <td>...</td>\n",
       "      <td>...</td>\n",
       "      <td>...</td>\n",
       "    </tr>\n",
       "    <tr>\n",
       "      <th>144</th>\n",
       "      <td>2014</td>\n",
       "      <td>-0.42</td>\n",
       "      <td>-0.45</td>\n",
       "      <td>-0.07</td>\n",
       "      <td>0.28</td>\n",
       "      <td>0.45</td>\n",
       "      <td>0.48</td>\n",
       "      <td>0.13</td>\n",
       "      <td>0.14</td>\n",
       "      <td>0.37</td>\n",
       "      <td>0.48</td>\n",
       "      <td>0.89</td>\n",
       "      <td>0.77</td>\n",
       "    </tr>\n",
       "    <tr>\n",
       "      <th>145</th>\n",
       "      <td>2015</td>\n",
       "      <td>0.59</td>\n",
       "      <td>0.57</td>\n",
       "      <td>0.48</td>\n",
       "      <td>0.90</td>\n",
       "      <td>1.04</td>\n",
       "      <td>1.28</td>\n",
       "      <td>1.56</td>\n",
       "      <td>1.87</td>\n",
       "      <td>2.01</td>\n",
       "      <td>2.21</td>\n",
       "      <td>2.57</td>\n",
       "      <td>2.56</td>\n",
       "    </tr>\n",
       "    <tr>\n",
       "      <th>146</th>\n",
       "      <td>2016</td>\n",
       "      <td>2.56</td>\n",
       "      <td>2.11</td>\n",
       "      <td>1.60</td>\n",
       "      <td>1.05</td>\n",
       "      <td>0.45</td>\n",
       "      <td>0.06</td>\n",
       "      <td>-0.25</td>\n",
       "      <td>-0.48</td>\n",
       "      <td>-0.46</td>\n",
       "      <td>-0.75</td>\n",
       "      <td>-0.63</td>\n",
       "      <td>-0.51</td>\n",
       "    </tr>\n",
       "    <tr>\n",
       "      <th>147</th>\n",
       "      <td>2017</td>\n",
       "      <td>-0.34</td>\n",
       "      <td>-0.01</td>\n",
       "      <td>-0.09</td>\n",
       "      <td>0.22</td>\n",
       "      <td>0.30</td>\n",
       "      <td>0.22</td>\n",
       "      <td>0.22</td>\n",
       "      <td>-0.18</td>\n",
       "      <td>-0.56</td>\n",
       "      <td>-0.52</td>\n",
       "      <td>-0.84</td>\n",
       "      <td>-0.85</td>\n",
       "    </tr>\n",
       "    <tr>\n",
       "      <th>148</th>\n",
       "      <td>2018</td>\n",
       "      <td>-0.86</td>\n",
       "      <td>-0.73</td>\n",
       "      <td>-0.73</td>\n",
       "      <td>-0.36</td>\n",
       "      <td>-0.12</td>\n",
       "      <td>0.12</td>\n",
       "      <td>0.27</td>\n",
       "      <td>0.05</td>\n",
       "      <td>0.30</td>\n",
       "      <td>0.84</td>\n",
       "      <td>1.00</td>\n",
       "      <td>0.97</td>\n",
       "    </tr>\n",
       "  </tbody>\n",
       "</table>\n",
       "<p>149 rows × 13 columns</p>\n",
       "</div>"
      ],
      "text/plain": [
       "     Year   JAN   FEB   MAR   APR   MAY   JUN   JUL   AUG   SEP   OCT   NOV  \\\n",
       "0    1870 -1.00 -1.20 -0.83 -0.81 -1.27 -1.08 -1.04 -0.88 -0.53 -0.92 -0.79   \n",
       "1    1871 -0.25 -0.58 -0.43 -0.50 -0.70 -0.53 -0.60 -0.33 -0.24 -0.33 -0.31   \n",
       "2    1872 -0.72 -0.62 -0.50 -0.77 -0.62 -0.52 -0.32 -0.85 -1.02 -0.94 -0.79   \n",
       "3    1873 -0.78 -1.01 -1.31 -0.67 -0.53 -0.48 -0.58 -0.39 -0.34 -0.78 -0.77   \n",
       "4    1874 -0.93 -1.06 -1.40 -0.94 -0.86 -0.72 -1.00 -1.05 -1.13 -1.25 -1.33   \n",
       "..    ...   ...   ...   ...   ...   ...   ...   ...   ...   ...   ...   ...   \n",
       "144  2014 -0.42 -0.45 -0.07  0.28  0.45  0.48  0.13  0.14  0.37  0.48  0.89   \n",
       "145  2015  0.59  0.57  0.48  0.90  1.04  1.28  1.56  1.87  2.01  2.21  2.57   \n",
       "146  2016  2.56  2.11  1.60  1.05  0.45  0.06 -0.25 -0.48 -0.46 -0.75 -0.63   \n",
       "147  2017 -0.34 -0.01 -0.09  0.22  0.30  0.22  0.22 -0.18 -0.56 -0.52 -0.84   \n",
       "148  2018 -0.86 -0.73 -0.73 -0.36 -0.12  0.12  0.27  0.05  0.30  0.84  1.00   \n",
       "\n",
       "      DEC  \n",
       "0   -0.79  \n",
       "1   -0.58  \n",
       "2   -0.88  \n",
       "3   -0.70  \n",
       "4   -1.14  \n",
       "..    ...  \n",
       "144  0.77  \n",
       "145  2.56  \n",
       "146 -0.51  \n",
       "147 -0.85  \n",
       "148  0.97  \n",
       "\n",
       "[149 rows x 13 columns]"
      ]
     },
     "execution_count": 2,
     "metadata": {},
     "output_type": "execute_result"
    }
   ],
   "source": [
    "headers=['Year','JAN','FEB','MAR','APR','MAY','JUN','JUL','AUG','SEP','OCT','NOV','DEC']\n",
    "datos= pd.read_fwf('nino34.long.anom.data.txt', names=headers)\n",
    "datos = datos.drop(datos.index[-1])\n",
    "datos"
   ]
  },
  {
   "cell_type": "markdown",
   "metadata": {},
   "source": [
    "### Análisis Exploratorio"
   ]
  },
  {
   "cell_type": "code",
   "execution_count": 3,
   "metadata": {},
   "outputs": [
    {
     "data": {
      "image/png": "[encoded data removed]",
      "text/plain": [
       "<Figure size 1000x1000 with 12 Axes>"
      ]
     },
     "metadata": {},
     "output_type": "display_data"
    }
   ],
   "source": [
    "\n",
    "\n",
    "# Create a figure and a set of subplots\n",
    "fig, axes = plt.subplots(nrows= 4, ncols=3, figsize=(10, 10))\n",
    "axes = axes.flatten()  # Flatten the array to make indexing easier in a loop\n",
    "x,y = (datos[\"Year\"],datos.iloc[:,1:])\n",
    "\n",
    "y_boy =  y[(y >=0.5).any(axis=1)]\n",
    "y_girl =  y[(y <=0.5).any(axis=1)]\n",
    "\n",
    "\n",
    "\n",
    "\n",
    "#colors\n",
    "cmap =  cm.get_cmap('viridis',12) \n",
    "# Plot each column\n",
    "for i,column in enumerate(y.columns):\n",
    "    color = cmap(i)\n",
    "    #Agregar colores de fondo\n",
    "    axes[i].add_patch(patches.Rectangle((1870,0),y.shape[0],2.5,color='red',alpha=0.3)) #color rojo para el Niño\n",
    "    axes[i].add_patch(patches.Rectangle((1870,0),y.shape[0],-2.5,color='blue',alpha=0.3)) #color rojo para la Nina\n",
    "    axes[i].plot(x,y[column],marker=\"\",linestyle=\"-\",color=\"gray\")\n",
    "    axes[i].set_title(f'Time Series for {column}')\n",
    "    axes[i].axhline(y=0.5, color='r', linestyle='--')\n",
    "    axes[i].axhline(y=-0.5, color='b', linestyle='--')\n",
    "    axes[i].grid(True)\n",
    "\n",
    "\n",
    "\n",
    "# Adjust layout\n",
    "plt.tight_layout()\n",
    "plt.show()"
   ]
  },
  {
   "cell_type": "markdown",
   "metadata": {},
   "source": [
    "### Encaje de Takens\n",
    "\n",
    "Esta técnica es utilizada en funciones de serie de tiempo para **comprobar si son periodicas con el tiempo**. Mas formalemente, si tenemos una serie de tiempo $f(t)$ la cual tenemos discretizada (un tamaño k de pesa por cada zancada).\n",
    "\n",
    "$$f(t) = f(t_1),f(t_1 + k),f(t_1 + 2k),...,f(t_1 + nk)$$\n",
    "\n",
    "Donde:\n",
    "\n",
    "$$k = t_{i+1} - t_i$$\n",
    "\n",
    "Dado lo anterior, podemos encajar nuestros datos en un espacio de dimension d. Para esto, consideramos para cada i un delay de tiempo $\\tau$:\n",
    "\n",
    "$$F(t_i) = (f(t_i),f(t_i + \\tau),...,f(t_i +  (d - 1)\\tau))$$\n",
    "\n",
    "* $f(t_i)$ se llama **inicio de la ventana**\n",
    "* $f(t_i + (d-1)\\tau)$ se llama **final de la ventana**\n",
    "\n",
    "#### Teorema de Florin Takens\n",
    "\n",
    "Si se escogen bien los parámetros $(\\tau,d)$ para una señal discretizada $f(t)$ con valores en los reales $(ℝ,t)$ entonces la función:\n",
    "\n",
    "$$Tf_{τ,d}:ℝ \\to ℝ$$\n",
    "\n",
    "Esta misma está definida por $Tf_{τ,d}(t) = (f(t_i),f(t_i + \\tau),...,f(t_i +  (d - 1)\\tau))$, el cual es un  **difeomorfismo**\n",
    "\n",
    "\n",
    "La promesa del teorema del encaje de Takens es que si los datos son periódicos entonces la imagen del encaje forma una elipse, esto es:\n",
    "\n",
    "$$β_0 =  β_1 = 1$$\n",
    "$$β_n = 0,∀n > 1$$\n",
    "\n",
    "Es decir, que la transformacion que se le aplique a nuestra serie de tiempo, tiene que retornar una matriz en el espacio euclediano $ℝ^2$ que sean las coordenadas que formen a un **cículo (elipse)** \n",
    "\n",
    "Sin embargo, tenemos que obtener los valores óptimos para $\\tau$ y $d$,¿cuáles serían?"
   ]
  },
  {
   "cell_type": "code",
   "execution_count": 16,
   "metadata": {},
   "outputs": [
    {
     "data": {
      "text/html": [
       "<div>\n",
       "<style scoped>\n",
       "    .dataframe tbody tr th:only-of-type {\n",
       "        vertical-align: middle;\n",
       "    }\n",
       "\n",
       "    .dataframe tbody tr th {\n",
       "        vertical-align: top;\n",
       "    }\n",
       "\n",
       "    .dataframe thead th {\n",
       "        text-align: right;\n",
       "    }\n",
       "</style>\n",
       "<table border=\"1\" class=\"dataframe\">\n",
       "  <thead>\n",
       "    <tr style=\"text-align: right;\">\n",
       "      <th></th>\n",
       "      <th>column</th>\n",
       "      <th>tau</th>\n",
       "      <th>d</th>\n",
       "    </tr>\n",
       "  </thead>\n",
       "  <tbody>\n",
       "  </tbody>\n",
       "</table>\n",
       "</div>"
      ],
      "text/plain": [
       "Empty DataFrame\n",
       "Columns: [column, tau, d]\n",
       "Index: []"
      ]
     },
     "execution_count": 16,
     "metadata": {},
     "output_type": "execute_result"
    }
   ],
   "source": [
    "parametros_optimos = pd.DataFrame(columns = [\"column\",\"tau\",\"d\"])\n",
    "parametros_optimos"
   ]
  },
  {
   "cell_type": "code",
   "execution_count": 37,
   "metadata": {},
   "outputs": [
    {
     "data": {
      "text/html": [
       "<div>\n",
       "<style scoped>\n",
       "    .dataframe tbody tr th:only-of-type {\n",
       "        vertical-align: middle;\n",
       "    }\n",
       "\n",
       "    .dataframe tbody tr th {\n",
       "        vertical-align: top;\n",
       "    }\n",
       "\n",
       "    .dataframe thead th {\n",
       "        text-align: right;\n",
       "    }\n",
       "</style>\n",
       "<table border=\"1\" class=\"dataframe\">\n",
       "  <thead>\n",
       "    <tr style=\"text-align: right;\">\n",
       "      <th></th>\n",
       "      <th>column</th>\n",
       "      <th>tau</th>\n",
       "      <th>d</th>\n",
       "    </tr>\n",
       "  </thead>\n",
       "  <tbody>\n",
       "    <tr>\n",
       "      <th>0</th>\n",
       "      <td>JAN</td>\n",
       "      <td>2</td>\n",
       "      <td>4</td>\n",
       "    </tr>\n",
       "    <tr>\n",
       "      <th>1</th>\n",
       "      <td>FEB</td>\n",
       "      <td>2</td>\n",
       "      <td>5</td>\n",
       "    </tr>\n",
       "    <tr>\n",
       "      <th>2</th>\n",
       "      <td>MAR</td>\n",
       "      <td>11</td>\n",
       "      <td>4</td>\n",
       "    </tr>\n",
       "    <tr>\n",
       "      <th>3</th>\n",
       "      <td>APR</td>\n",
       "      <td>10</td>\n",
       "      <td>5</td>\n",
       "    </tr>\n",
       "    <tr>\n",
       "      <th>4</th>\n",
       "      <td>MAY</td>\n",
       "      <td>9</td>\n",
       "      <td>4</td>\n",
       "    </tr>\n",
       "    <tr>\n",
       "      <th>5</th>\n",
       "      <td>JUN</td>\n",
       "      <td>3</td>\n",
       "      <td>4</td>\n",
       "    </tr>\n",
       "    <tr>\n",
       "      <th>6</th>\n",
       "      <td>JUL</td>\n",
       "      <td>4</td>\n",
       "      <td>5</td>\n",
       "    </tr>\n",
       "    <tr>\n",
       "      <th>7</th>\n",
       "      <td>AUG</td>\n",
       "      <td>1</td>\n",
       "      <td>4</td>\n",
       "    </tr>\n",
       "    <tr>\n",
       "      <th>8</th>\n",
       "      <td>SEP</td>\n",
       "      <td>6</td>\n",
       "      <td>4</td>\n",
       "    </tr>\n",
       "    <tr>\n",
       "      <th>9</th>\n",
       "      <td>OCT</td>\n",
       "      <td>4</td>\n",
       "      <td>4</td>\n",
       "    </tr>\n",
       "    <tr>\n",
       "      <th>10</th>\n",
       "      <td>NOV</td>\n",
       "      <td>1</td>\n",
       "      <td>4</td>\n",
       "    </tr>\n",
       "    <tr>\n",
       "      <th>11</th>\n",
       "      <td>DEC</td>\n",
       "      <td>1</td>\n",
       "      <td>5</td>\n",
       "    </tr>\n",
       "  </tbody>\n",
       "</table>\n",
       "</div>"
      ],
      "text/plain": [
       "   column  tau  d\n",
       "0     JAN    2  4\n",
       "1     FEB    2  5\n",
       "2     MAR   11  4\n",
       "3     APR   10  5\n",
       "4     MAY    9  4\n",
       "5     JUN    3  4\n",
       "6     JUL    4  5\n",
       "7     AUG    1  4\n",
       "8     SEP    6  4\n",
       "9     OCT    4  4\n",
       "10    NOV    1  4\n",
       "11    DEC    1  5"
      ]
     },
     "execution_count": 37,
     "metadata": {},
     "output_type": "execute_result"
    }
   ],
   "source": [
    "#La parte real de la raiz de la cantidad de datos (probamos otros datos)\n",
    "max_periodic_dimension = 11\n",
    "max_periodic_time_delay = 11\n",
    "stride = 1\n",
    "parametros_optimos = pd.DataFrame(columns = [\"column\",\"tau\",\"d\"])\n",
    "\n",
    "for i,column in enumerate(y.columns):\n",
    "    tau,d= takens_embedding_optimal_parameters(y[column], max_periodic_dimension, max_periodic_time_delay, stride)\n",
    "    #print('Optimal time delay: ', tau,'\\nOptimal dimension: ', d)\n",
    "    #print(\"<----------------------->\")\n",
    "    parametros_optimos.loc[i] = [column,tau,d]\n",
    "    \n",
    "parametros_optimos"
   ]
  },
  {
   "cell_type": "markdown",
   "metadata": {},
   "source": [
    "El algoritmo de giotto-tda nos da como resultado que el parámetro óptimo para el time_delay es 29 y la dimensión óptima es 18, cuando el stride es 1.\n",
    "\n",
    "Si modificamos el stride, estos parámetros cambiarán."
   ]
  },
  {
   "cell_type": "code",
   "execution_count": 45,
   "metadata": {},
   "outputs": [
    {
     "name": "stdout",
     "output_type": "stream",
     "text": [
      "El delay encontrado es  2\n",
      "La dimension encontrada es  4\n",
      "Shape of embedded time series: (143, 4)\n"
     ]
    },
    {
     "data": {
      "application/vnd.plotly.v1+json": {
       "config": {
        "plotlyServerURL": "https://plot.ly"
       },
       "data": [
        {
         "marker": {
          "color": [
           0,
           1,
           2,
           3,
           4,
           5,
           6,
           7,
           8,
           9,
           10,
           11,
           12,
           13,
           14,
           15,
           16,
           17,
           18,
           19,
           20,
           21,
           22,
           23,
           24,
           25,
           26,
           27,
           28,
           29,
           30,
           31,
           32,
           33,
           34,
           35,
           36,
           37,
           38,
           39,
           40,
           41,
           42,
           43,
           44,
           45,
           46,
           47,
           48,
           49,
           50,
           51,
           52,
           53,
           54,
           55,
           56,
           57,
           58,
           59,
           60,
           61,
           62,
           63,
           64,
           65,
           66,
           67,
           68,
           69,
           70,
           71,
           72,
           73,
           74,
           75,
           76,
           77,
           78,
           79,
           80,
           81,
           82,
           83,
           84,
           85,
           86,
           87,
           88,
           89,
           90,
           91,
           92,
           93,
           94,
           95,
           96,
           97,
           98,
           99,
           100,
           101,
           102,
           103,
           104,
           105,
           106,
           107,
           108,
           109,
           110,
           111,
           112,
           113,
           114,
           115,
           116,
           117,
           118,
           119,
           120,
           121,
           122,
           123,
           124,
           125,
           126,
           127,
           128,
           129,
           130,
           131,
           132,
           133,
           134,
           135,
           136,
           137,
           138,
           139,
           140,
           141,
           142
          ],
          "colorscale": [
           [
            0,
            "#440154"
           ],
           [
            0.1111111111111111,
            "#482878"
           ],
           [
            0.2222222222222222,
            "#3e4989"
           ],
           [
            0.3333333333333333,
            "#31688e"
           ],
           [
            0.4444444444444444,
            "#26828e"
           ],
           [
            0.5555555555555556,
            "#1f9e89"
           ],
           [
            0.6666666666666666,
            "#35b779"
           ],
           [
            0.7777777777777778,
            "#6ece58"
           ],
           [
            0.8888888888888888,
            "#b5de2b"
           ],
           [
            1,
            "#fde725"
           ]
          ],
          "opacity": 0.8,
          "size": 4
         },
         "mode": "markers",
         "type": "scatter3d",
         "x": [
          -0.04772394636164331,
          -0.3632847427303526,
          -1.557387686832654,
          0.7011186373498942,
          2.4709348504589848,
          -0.8367080306438857,
          -1.808979433997407,
          0.7445822476458958,
          0.6344213011324077,
          -0.6321134166307847,
          -0.14090629749291528,
          0.6781852979656275,
          0.007587484371684435,
          -1.6027432928044278,
          1.2160486406232784,
          1.9598368785633768,
          -1.573751004192277,
          -0.7843781768593768,
          1.3701223812216088,
          0.046308204414430204,
          -1.0798090318577227,
          -0.7599788405789568,
          0.7766524468498105,
          1.536555959446939,
          -1.33631812836227,
          -1.7794864770024639,
          1.5064747470774476,
          0.5462827840131049,
          -0.7650738128366142,
          0.07912497097599791,
          -0.471914921439697,
          0.2746501038155104,
          1.0080345933762116,
          -0.3513002998701295,
          -0.29857668108519975,
          0.45584671325561005,
          -1.1402738891118183,
          -0.28373417886671265,
          1.1380812247410812,
          -0.3667768467682655,
          -0.35365005265857485,
          1.3700243580257165,
          0.26835233178472756,
          -2.352900707127709,
          -0.7359923908580311,
          1.8121084371661464,
          1.083641292013048,
          -0.541667578993773,
          -1.0732392964235664,
          0.29175821646918526,
          -0.056204471709905834,
          -0.5189359684597818,
          0.5249003648566825,
          0.5458156254470827,
          -0.4801655428300062,
          -1.080516331287571,
          0.49958433118382567,
          1.2406443139005008,
          0.06779771370114408,
          -0.7320320274758644,
          -0.7711414889311853,
          0.27995507244626977,
          0.9809348564029311,
          0.21790368563542076,
          -1.2548950636768987,
          -1.078315411049725,
          0.763575060042904,
          1.819696095688003,
          0.034775083029572273,
          -1.4585666519877516,
          -0.16556100590015255,
          0.3603999455705679,
          -0.037803023882756415,
          0.44402302795629633,
          0.6710283990269017,
          -0.03255886372501707,
          -1.0503433303661942,
          -0.7010108437203914,
          0.5805397423274213,
          1.0183415220091532,
          0.4947714154225037,
          -0.579744320104815,
          -1.750679355075487,
          -0.24147860647570518,
          1.7255115646749424,
          0.5131847200995957,
          -0.8229830726319095,
          -0.26422288327593646,
          -0.2887456615873337,
          0.1910185404023852,
          0.0983823746359632,
          -0.021772894446633488,
          0.6831185402431135,
          -0.6306965359555619,
          -1.0998508151341992,
          1.5051821315723928,
          1.1535672380517923,
          -2.362070338185733,
          0.19891583679922328,
          2.165078391095042,
          -0.18987875684429517,
          -1.7058068077876336,
          -0.7942913883411543,
          1.0281645696437394,
          0.7136242883961493,
          -0.21720621290615422,
          -0.26635789322305004,
          -1.3901610525800763,
          0.22530675471080386,
          2.373843003409125,
          -0.07230503796576492,
          -2.4523998626635772,
          -0.5389836204011224,
          2.6524387840215113,
          0.6976285117460805,
          -2.36791505847602,
          -1.2530113958916624,
          1.3514303660707414,
          1.2355695505193909,
          -0.9447315747329994,
          -0.42556165098817933,
          0.9431523309399464,
          -1.377827535652059,
          -0.0336720175085596,
          2.898133145985153,
          -0.26292549918853353,
          -2.472195126730283,
          -0.4717138905234096,
          1.047775176996075,
          0.5488355836377908,
          0.3952293708247806,
          -0.5229610759075679,
          0.02252216678019827,
          0.8134409923308945,
          -1.4723900214244992,
          -0.0639874078582956,
          2.1273424870205493,
          -0.4330166672487126,
          -1.4647148059867714,
          0.022532654041917313,
          -0.8630965657859608,
          0.46466778249348467,
          2.2590573823323954
         ],
         "y": [
          -0.49215281235338104,
          0.611673536186444,
          1.463073853630852,
          -0.4150328609368631,
          -1.0025298055658278,
          -0.37953861403395917,
          -1.9734756841188605,
          0.26268797844376285,
          2.13459366805806,
          -0.34628171303956456,
          -0.2552216143664235,
          0.0990730414898711,
          -0.1664021650919436,
          0.7668541147154667,
          -1.4078162637185496,
          -0.137715348143341,
          0.2824609177706932,
          -2.052831882468722,
          1.0812804639322025,
          1.4006580534847566,
          -0.9771550752666032,
          1.3063052311275598,
          0.03395498274532284,
          -1.0111813664950466,
          0.03265467727739565,
          -0.7372072386478666,
          -0.12078969712439049,
          1.8718137695913697,
          -1.366513616755524,
          -0.850371319750839,
          1.7692921609598404,
          -0.6373802003260598,
          -0.19598426437597924,
          0.4372877326279205,
          -1.3546143840973761,
          0.5424150412482115,
          1.6760755751104028,
          -0.16628796579691074,
          0.40984299471154956,
          0.6278955028277188,
          -1.6470721424233274,
          -1.174085368977309,
          0.2046174168148081,
          0.4868478194018406,
          1.005114336363661,
          1.3485317109143167,
          0.02216297931100041,
          -2.161983902621093,
          -0.5439436215840425,
          0.35276043511792626,
          1.3819564152909034,
          0.7706680947377674,
          -0.655137456303262,
          0.24595745351066775,
          -0.47699502095801366,
          0.07272846499478366,
          0.4300882318926309,
          -0.23543066663952117,
          -0.26280881059660877,
          -1.0402179313405973,
          1.0215512906315787,
          0.9879478288981305,
          0.026944535964787096,
          -0.2074024555013662,
          -0.36770893835621415,
          0.7953407624870893,
          0.6672744155276722,
          -0.6590929645854646,
          -1.1137747995115357,
          -1.1296601049138961,
          0.2788395624557217,
          1.8273840655865772,
          0.7485194702558602,
          -0.8415439611930662,
          -0.5282162364453751,
          -0.8992048495501458,
          0.10866823937047743,
          0.9216794694932947,
          0.755988354716765,
          -0.03162863908621651,
          -1.5513360089607406,
          -1.0470446536066356,
          1.041457676149161,
          0.937906589908362,
          0.6625930502510695,
          -0.24306495257451194,
          -1.7601381548192423,
          -0.7099992342343304,
          1.3977155477192524,
          0.15286949581336612,
          0.5754519485207025,
          -0.057087113111900616,
          -1.092545685073497,
          0.6880217536162085,
          0.2430415441841801,
          -0.9354178705993517,
          0.6720553259720174,
          0.23715405112472576,
          -1.555979555863461,
          0.9159024267362547,
          0.20192081789440855,
          -1.331130068046738,
          1.5039107257603939,
          1.0911221306455166,
          -0.11007599449595368,
          -0.9261090634423843,
          -1.6561122353389168,
          1.8020968679043814,
          -0.22959030161081442,
          -0.6178994976472284,
          0.15263468342380287,
          -0.8832241292316064,
          0.9387169585159373,
          0.8539677221116893,
          -0.16861543382814353,
          -0.5836941672495265,
          -0.08470379142405059,
          1.9063387434529973,
          0.13465369147312645,
          -1.0165125873586858,
          -1.2111220661776854,
          -0.2519636861551954,
          2.3332948513183998,
          -1.1011199291852043,
          -0.9587637444638905,
          0.820109637295535,
          -1.4811619951898547,
          1.2671652267787086,
          2.7094836373833635,
          -0.3688893788317813,
          -1.5685659249278412,
          -0.9151008937357618,
          -0.9093952282924552,
          -0.2944789950683896,
          1.7920770442784648,
          -0.6068748419189628,
          -0.33000814625098196,
          1.0818854307328074,
          -1.9467606215579927,
          0.7211278808689273,
          2.7872095319165937,
          -1.103055651874312,
          -1.2634162762188985
         ],
         "z": [
          -0.04512910655146342,
          0.3362345621416504,
          1.8210603052014143,
          0.49986549179787854,
          1.1404431648036113,
          0.28359017742966475,
          -0.8347182851927645,
          -0.2507042381430238,
          -1.489282697507711,
          0.13142750940646478,
          0.8188116811136263,
          -0.43178962033266965,
          0.4393958594560026,
          1.150020973791882,
          -1.4390591145877523,
          0.5459567545563166,
          -1.374093775493809,
          -1.1336586273821772,
          -0.13688884490454206,
          -2.035147217364193,
          1.444144900146093,
          1.279651601114195,
          0.40002540056131836,
          1.0833351338716724,
          1.2673618584776967,
          0.16433247651721206,
          0.23255417437018328,
          0.3241889147947283,
          -0.7786062240192911,
          1.0523986788074764,
          -0.516030875124952,
          -1.0983265909769186,
          0.6825553770138838,
          -1.4922824748807237,
          -0.5023110312089353,
          -0.7280328036651507,
          0.06333065424442087,
          0.1067296917502719,
          1.4068932118867168,
          0.787161292511331,
          0.23279727953204257,
          -0.21199446463447263,
          -1.8062855390610375,
          0.19581775428023612,
          -0.36892779181437685,
          0.7291582594025844,
          0.22501344107018373,
          0.35620503782150253,
          0.3763167568409105,
          -1.965045499220294,
          0.7888335541811969,
          -0.4857347339209563,
          0.9782970503446998,
          0.5136013504109036,
          -0.45911215661584415,
          1.423278082168127,
          -1.2965050002251683,
          0.3528076096112066,
          -1.153320942091235,
          -0.6923061619152759,
          -0.01717160067714902,
          -1.2205880660632695,
          0.6787989510774349,
          -0.2978710025831011,
          0.9440702047732292,
          0.8465643698646541,
          0.33362019954244665,
          0.15800958756591468,
          -0.3199512273881633,
          -0.6951076824822189,
          -1.4078179784183107,
          -0.4309405897609092,
          -0.41897141153874373,
          0.7235879031474733,
          -0.22317472709349664,
          -0.7626777456898598,
          0.08942132001514111,
          -0.32533468870045135,
          0.6449541992667543,
          0.3696450985826133,
          -0.0745381672135034,
          0.01037793248068228,
          0.05723508698949445,
          0.0032768671884713585,
          0.6737771329598996,
          0.6378029811472312,
          0.11184024801123858,
          -0.058086703005069275,
          -0.6773061582999274,
          -0.7151143323157841,
          0.9700804855526814,
          -0.3615053614460115,
          -0.07807717157586481,
          0.694200620146712,
          -0.7862171729099547,
          -0.03678710566736211,
          -0.7167908982194355,
          0.44725618837499026,
          -1.2285996828900698,
          0.21402060411020912,
          -1.9811791452143417,
          0.7528221332745529,
          0.788556447972997,
          -0.6208215511958831,
          2.439949134343974,
          -0.3213197188401568,
          1.0613934396202043,
          0.6807416759757658,
          -1.1688807490782498,
          0.4153059320893765,
          -1.1290040138119601,
          -0.1562784958225089,
          0.3796575503066232,
          -2.0436928351540966,
          0.9964368064805003,
          -0.24263130328728846,
          1.2057021495853577,
          0.1817090236325938,
          0.10023981282472484,
          1.8050159605373157,
          -0.9513624281642186,
          -0.3215665763774403,
          0.11307789753024733,
          -1.634932217562691,
          -0.04138968966070459,
          -1.6683273130262546,
          -1.128865506118643,
          1.0107187584750876,
          -0.907737213787072,
          1.9194513380003575,
          0.6791023362369096,
          0.7575114106454178,
          -1.436501155246793,
          -1.234796034578361,
          0.3274684572332035,
          -1.9509525998115955,
          1.1423143067367096,
          -0.9402333858869922,
          0.072257944344243,
          1.3674868563738451,
          0.7089108453911123,
          1.208109414366833,
          1.102319589194113
         ]
        }
       ],
       "layout": {
        "autosize": true,
        "scene": {
         "aspectmode": "auto",
         "aspectratio": {
          "x": 1.0913032229905295,
          "y": 1.0057245054748887,
          "z": 0.9111198950180306
         },
         "camera": {
          "center": {
           "x": 0,
           "y": 0,
           "z": 0
          },
          "eye": {
           "x": -0.8633189527251469,
           "y": 0.016036028531971454,
           "z": 0.6022032846188581
          },
          "projection": {
           "type": "perspective"
          },
          "up": {
           "x": 0,
           "y": 0,
           "z": 1
          }
         },
         "xaxis": {
          "exponentformat": "e",
          "showexponent": "all",
          "title": {
           "text": "0th"
          },
          "type": "linear"
         },
         "yaxis": {
          "exponentformat": "e",
          "showexponent": "all",
          "title": {
           "text": "1st"
          },
          "type": "linear"
         },
         "zaxis": {
          "exponentformat": "e",
          "showexponent": "all",
          "title": {
           "text": "2nd"
          },
          "type": "linear"
         }
        },
        "template": {
         "data": {
          "bar": [
           {
            "error_x": {
             "color": "#2a3f5f"
            },
            "error_y": {
             "color": "#2a3f5f"
            },
            "marker": {
             "line": {
              "color": "#E5ECF6",
              "width": 0.5
             },
             "pattern": {
              "fillmode": "overlay",
              "size": 10,
              "solidity": 0.2
             }
            },
            "type": "bar"
           }
          ],
          "barpolar": [
           {
            "marker": {
             "line": {
              "color": "#E5ECF6",
              "width": 0.5
             },
             "pattern": {
              "fillmode": "overlay",
              "size": 10,
              "solidity": 0.2
             }
            },
            "type": "barpolar"
           }
          ],
          "carpet": [
           {
            "aaxis": {
             "endlinecolor": "#2a3f5f",
             "gridcolor": "white",
             "linecolor": "white",
             "minorgridcolor": "white",
             "startlinecolor": "#2a3f5f"
            },
            "baxis": {
             "endlinecolor": "#2a3f5f",
             "gridcolor": "white",
             "linecolor": "white",
             "minorgridcolor": "white",
             "startlinecolor": "#2a3f5f"
            },
            "type": "carpet"
           }
          ],
          "choropleth": [
           {
            "colorbar": {
             "outlinewidth": 0,
             "ticks": ""
            },
            "type": "choropleth"
           }
          ],
          "contour": [
           {
            "colorbar": {
             "outlinewidth": 0,
             "ticks": ""
            },
            "colorscale": [
             [
              0,
              "#0d0887"
             ],
             [
              0.1111111111111111,
              "#46039f"
             ],
             [
              0.2222222222222222,
              "#7201a8"
             ],
             [
              0.3333333333333333,
              "#9c179e"
             ],
             [
              0.4444444444444444,
              "#bd3786"
             ],
             [
              0.5555555555555556,
              "#d8576b"
             ],
             [
              0.6666666666666666,
              "#ed7953"
             ],
             [
              0.7777777777777778,
              "#fb9f3a"
             ],
             [
              0.8888888888888888,
              "#fdca26"
             ],
             [
              1,
              "#f0f921"
             ]
            ],
            "type": "contour"
           }
          ],
          "contourcarpet": [
           {
            "colorbar": {
             "outlinewidth": 0,
             "ticks": ""
            },
            "type": "contourcarpet"
           }
          ],
          "heatmap": [
           {
            "colorbar": {
             "outlinewidth": 0,
             "ticks": ""
            },
            "colorscale": [
             [
              0,
              "#0d0887"
             ],
             [
              0.1111111111111111,
              "#46039f"
             ],
             [
              0.2222222222222222,
              "#7201a8"
             ],
             [
              0.3333333333333333,
              "#9c179e"
             ],
             [
              0.4444444444444444,
              "#bd3786"
             ],
             [
              0.5555555555555556,
              "#d8576b"
             ],
             [
              0.6666666666666666,
              "#ed7953"
             ],
             [
              0.7777777777777778,
              "#fb9f3a"
             ],
             [
              0.8888888888888888,
              "#fdca26"
             ],
             [
              1,
              "#f0f921"
             ]
            ],
            "type": "heatmap"
           }
          ],
          "heatmapgl": [
           {
            "colorbar": {
             "outlinewidth": 0,
             "ticks": ""
            },
            "colorscale": [
             [
              0,
              "#0d0887"
             ],
             [
              0.1111111111111111,
              "#46039f"
             ],
             [
              0.2222222222222222,
              "#7201a8"
             ],
             [
              0.3333333333333333,
              "#9c179e"
             ],
             [
              0.4444444444444444,
              "#bd3786"
             ],
             [
              0.5555555555555556,
              "#d8576b"
             ],
             [
              0.6666666666666666,
              "#ed7953"
             ],
             [
              0.7777777777777778,
              "#fb9f3a"
             ],
             [
              0.8888888888888888,
              "#fdca26"
             ],
             [
              1,
              "#f0f921"
             ]
            ],
            "type": "heatmapgl"
           }
          ],
          "histogram": [
           {
            "marker": {
             "pattern": {
              "fillmode": "overlay",
              "size": 10,
              "solidity": 0.2
             }
            },
            "type": "histogram"
           }
          ],
          "histogram2d": [
           {
            "colorbar": {
             "outlinewidth": 0,
             "ticks": ""
            },
            "colorscale": [
             [
              0,
              "#0d0887"
             ],
             [
              0.1111111111111111,
              "#46039f"
             ],
             [
              0.2222222222222222,
              "#7201a8"
             ],
             [
              0.3333333333333333,
              "#9c179e"
             ],
             [
              0.4444444444444444,
              "#bd3786"
             ],
             [
              0.5555555555555556,
              "#d8576b"
             ],
             [
              0.6666666666666666,
              "#ed7953"
             ],
             [
              0.7777777777777778,
              "#fb9f3a"
             ],
             [
              0.8888888888888888,
              "#fdca26"
             ],
             [
              1,
              "#f0f921"
             ]
            ],
            "type": "histogram2d"
           }
          ],
          "histogram2dcontour": [
           {
            "colorbar": {
             "outlinewidth": 0,
             "ticks": ""
            },
            "colorscale": [
             [
              0,
              "#0d0887"
             ],
             [
              0.1111111111111111,
              "#46039f"
             ],
             [
              0.2222222222222222,
              "#7201a8"
             ],
             [
              0.3333333333333333,
              "#9c179e"
             ],
             [
              0.4444444444444444,
              "#bd3786"
             ],
             [
              0.5555555555555556,
              "#d8576b"
             ],
             [
              0.6666666666666666,
              "#ed7953"
             ],
             [
              0.7777777777777778,
              "#fb9f3a"
             ],
             [
              0.8888888888888888,
              "#fdca26"
             ],
             [
              1,
              "#f0f921"
             ]
            ],
            "type": "histogram2dcontour"
           }
          ],
          "mesh3d": [
           {
            "colorbar": {
             "outlinewidth": 0,
             "ticks": ""
            },
            "type": "mesh3d"
           }
          ],
          "parcoords": [
           {
            "line": {
             "colorbar": {
              "outlinewidth": 0,
              "ticks": ""
             }
            },
            "type": "parcoords"
           }
          ],
          "pie": [
           {
            "automargin": true,
            "type": "pie"
           }
          ],
          "scatter": [
           {
            "marker": {
             "colorbar": {
              "outlinewidth": 0,
              "ticks": ""
             }
            },
            "type": "scatter"
           }
          ],
          "scatter3d": [
           {
            "line": {
             "colorbar": {
              "outlinewidth": 0,
              "ticks": ""
             }
            },
            "marker": {
             "colorbar": {
              "outlinewidth": 0,
              "ticks": ""
             }
            },
            "type": "scatter3d"
           }
          ],
          "scattercarpet": [
           {
            "marker": {
             "colorbar": {
              "outlinewidth": 0,
              "ticks": ""
             }
            },
            "type": "scattercarpet"
           }
          ],
          "scattergeo": [
           {
            "marker": {
             "colorbar": {
              "outlinewidth": 0,
              "ticks": ""
             }
            },
            "type": "scattergeo"
           }
          ],
          "scattergl": [
           {
            "marker": {
             "colorbar": {
              "outlinewidth": 0,
              "ticks": ""
             }
            },
            "type": "scattergl"
           }
          ],
          "scattermapbox": [
           {
            "marker": {
             "colorbar": {
              "outlinewidth": 0,
              "ticks": ""
             }
            },
            "type": "scattermapbox"
           }
          ],
          "scatterpolar": [
           {
            "marker": {
             "colorbar": {
              "outlinewidth": 0,
              "ticks": ""
             }
            },
            "type": "scatterpolar"
           }
          ],
          "scatterpolargl": [
           {
            "marker": {
             "colorbar": {
              "outlinewidth": 0,
              "ticks": ""
             }
            },
            "type": "scatterpolargl"
           }
          ],
          "scatterternary": [
           {
            "marker": {
             "colorbar": {
              "outlinewidth": 0,
              "ticks": ""
             }
            },
            "type": "scatterternary"
           }
          ],
          "surface": [
           {
            "colorbar": {
             "outlinewidth": 0,
             "ticks": ""
            },
            "colorscale": [
             [
              0,
              "#0d0887"
             ],
             [
              0.1111111111111111,
              "#46039f"
             ],
             [
              0.2222222222222222,
              "#7201a8"
             ],
             [
              0.3333333333333333,
              "#9c179e"
             ],
             [
              0.4444444444444444,
              "#bd3786"
             ],
             [
              0.5555555555555556,
              "#d8576b"
             ],
             [
              0.6666666666666666,
              "#ed7953"
             ],
             [
              0.7777777777777778,
              "#fb9f3a"
             ],
             [
              0.8888888888888888,
              "#fdca26"
             ],
             [
              1,
              "#f0f921"
             ]
            ],
            "type": "surface"
           }
          ],
          "table": [
           {
            "cells": {
             "fill": {
              "color": "#EBF0F8"
             },
             "line": {
              "color": "white"
             }
            },
            "header": {
             "fill": {
              "color": "#C8D4E3"
             },
             "line": {
              "color": "white"
             }
            },
            "type": "table"
           }
          ]
         },
         "layout": {
          "annotationdefaults": {
           "arrowcolor": "#2a3f5f",
           "arrowhead": 0,
           "arrowwidth": 1
          },
          "autotypenumbers": "strict",
          "coloraxis": {
           "colorbar": {
            "outlinewidth": 0,
            "ticks": ""
           }
          },
          "colorscale": {
           "diverging": [
            [
             0,
             "#8e0152"
            ],
            [
             0.1,
             "#c51b7d"
            ],
            [
             0.2,
             "#de77ae"
            ],
            [
             0.3,
             "#f1b6da"
            ],
            [
             0.4,
             "#fde0ef"
            ],
            [
             0.5,
             "#f7f7f7"
            ],
            [
             0.6,
             "#e6f5d0"
            ],
            [
             0.7,
             "#b8e186"
            ],
            [
             0.8,
             "#7fbc41"
            ],
            [
             0.9,
             "#4d9221"
            ],
            [
             1,
             "#276419"
            ]
           ],
           "sequential": [
            [
             0,
             "#0d0887"
            ],
            [
             0.1111111111111111,
             "#46039f"
            ],
            [
             0.2222222222222222,
             "#7201a8"
            ],
            [
             0.3333333333333333,
             "#9c179e"
            ],
            [
             0.4444444444444444,
             "#bd3786"
            ],
            [
             0.5555555555555556,
             "#d8576b"
            ],
            [
             0.6666666666666666,
             "#ed7953"
            ],
            [
             0.7777777777777778,
             "#fb9f3a"
            ],
            [
             0.8888888888888888,
             "#fdca26"
            ],
            [
             1,
             "#f0f921"
            ]
           ],
           "sequentialminus": [
            [
             0,
             "#0d0887"
            ],
            [
             0.1111111111111111,
             "#46039f"
            ],
            [
             0.2222222222222222,
             "#7201a8"
            ],
            [
             0.3333333333333333,
             "#9c179e"
            ],
            [
             0.4444444444444444,
             "#bd3786"
            ],
            [
             0.5555555555555556,
             "#d8576b"
            ],
            [
             0.6666666666666666,
             "#ed7953"
            ],
            [
             0.7777777777777778,
             "#fb9f3a"
            ],
            [
             0.8888888888888888,
             "#fdca26"
            ],
            [
             1,
             "#f0f921"
            ]
           ]
          },
          "colorway": [
           "#636efa",
           "#EF553B",
           "#00cc96",
           "#ab63fa",
           "#FFA15A",
           "#19d3f3",
           "#FF6692",
           "#B6E880",
           "#FF97FF",
           "#FECB52"
          ],
          "font": {
           "color": "#2a3f5f"
          },
          "geo": {
           "bgcolor": "white",
           "lakecolor": "white",
           "landcolor": "#E5ECF6",
           "showlakes": true,
           "showland": true,
           "subunitcolor": "white"
          },
          "hoverlabel": {
           "align": "left"
          },
          "hovermode": "closest",
          "mapbox": {
           "style": "light"
          },
          "paper_bgcolor": "white",
          "plot_bgcolor": "#E5ECF6",
          "polar": {
           "angularaxis": {
            "gridcolor": "white",
            "linecolor": "white",
            "ticks": ""
           },
           "bgcolor": "#E5ECF6",
           "radialaxis": {
            "gridcolor": "white",
            "linecolor": "white",
            "ticks": ""
           }
          },
          "scene": {
           "xaxis": {
            "backgroundcolor": "#E5ECF6",
            "gridcolor": "white",
            "gridwidth": 2,
            "linecolor": "white",
            "showbackground": true,
            "ticks": "",
            "zerolinecolor": "white"
           },
           "yaxis": {
            "backgroundcolor": "#E5ECF6",
            "gridcolor": "white",
            "gridwidth": 2,
            "linecolor": "white",
            "showbackground": true,
            "ticks": "",
            "zerolinecolor": "white"
           },
           "zaxis": {
            "backgroundcolor": "#E5ECF6",
            "gridcolor": "white",
            "gridwidth": 2,
            "linecolor": "white",
            "showbackground": true,
            "ticks": "",
            "zerolinecolor": "white"
           }
          },
          "shapedefaults": {
           "line": {
            "color": "#2a3f5f"
           }
          },
          "ternary": {
           "aaxis": {
            "gridcolor": "white",
            "linecolor": "white",
            "ticks": ""
           },
           "baxis": {
            "gridcolor": "white",
            "linecolor": "white",
            "ticks": ""
           },
           "bgcolor": "#E5ECF6",
           "caxis": {
            "gridcolor": "white",
            "linecolor": "white",
            "ticks": ""
           }
          },
          "title": {
           "x": 0.05
          },
          "xaxis": {
           "automargin": true,
           "gridcolor": "white",
           "linecolor": "white",
           "ticks": "",
           "title": {
            "standoff": 15
           },
           "zerolinecolor": "white",
           "zerolinewidth": 2
          },
          "yaxis": {
           "automargin": true,
           "gridcolor": "white",
           "linecolor": "white",
           "ticks": "",
           "title": {
            "standoff": 15
           },
           "zerolinecolor": "white",
           "zerolinewidth": 2
          }
         }
        }
       }
      },
      "image/png": "[encoded data removed]",
      "text/html": [
       "<div>                            <div id=\"050c82d9-ca4b-4fe0-9b77-f51201c0a6ff\" class=\"plotly-graph-div\" style=\"height:525px; width:100%;\"></div>            <script type=\"text/javascript\">                require([\"plotly\"], function(Plotly) {                    window.PLOTLYENV=window.PLOTLYENV || {};                                    if (document.getElementById(\"050c82d9-ca4b-4fe0-9b77-f51201c0a6ff\")) {                    Plotly.newPlot(                        \"050c82d9-ca4b-4fe0-9b77-f51201c0a6ff\",                        [{\"marker\":{\"color\":[0,1,2,3,4,5,6,7,8,9,10,11,12,13,14,15,16,17,18,19,20,21,22,23,24,25,26,27,28,29,30,31,32,33,34,35,36,37,38,39,40,41,42,43,44,45,46,47,48,49,50,51,52,53,54,55,56,57,58,59,60,61,62,63,64,65,66,67,68,69,70,71,72,73,74,75,76,77,78,79,80,81,82,83,84,85,86,87,88,89,90,91,92,93,94,95,96,97,98,99,100,101,102,103,104,105,106,107,108,109,110,111,112,113,114,115,116,117,118,119,120,121,122,123,124,125,126,127,128,129,130,131,132,133,134,135,136,137,138,139,140,141,142],\"colorscale\":[[0.0,\"#440154\"],[0.1111111111111111,\"#482878\"],[0.2222222222222222,\"#3e4989\"],[0.3333333333333333,\"#31688e\"],[0.4444444444444444,\"#26828e\"],[0.5555555555555556,\"#1f9e89\"],[0.6666666666666666,\"#35b779\"],[0.7777777777777778,\"#6ece58\"],[0.8888888888888888,\"#b5de2b\"],[1.0,\"#fde725\"]],\"opacity\":0.8,\"size\":4},\"mode\":\"markers\",\"x\":[-0.04772394636164331,-0.3632847427303526,-1.557387686832654,0.7011186373498942,2.4709348504589848,-0.8367080306438857,-1.808979433997407,0.7445822476458958,0.6344213011324077,-0.6321134166307847,-0.14090629749291528,0.6781852979656275,0.007587484371684435,-1.6027432928044278,1.2160486406232784,1.9598368785633768,-1.573751004192277,-0.7843781768593768,1.3701223812216088,0.046308204414430204,-1.0798090318577227,-0.7599788405789568,0.7766524468498105,1.536555959446939,-1.33631812836227,-1.7794864770024639,1.5064747470774476,0.5462827840131049,-0.7650738128366142,0.07912497097599791,-0.471914921439697,0.2746501038155104,1.0080345933762116,-0.3513002998701295,-0.29857668108519975,0.45584671325561005,-1.1402738891118183,-0.28373417886671265,1.1380812247410812,-0.3667768467682655,-0.35365005265857485,1.3700243580257165,0.26835233178472756,-2.352900707127709,-0.7359923908580311,1.8121084371661464,1.083641292013048,-0.541667578993773,-1.0732392964235664,0.29175821646918526,-0.056204471709905834,-0.5189359684597818,0.5249003648566825,0.5458156254470827,-0.4801655428300062,-1.080516331287571,0.49958433118382567,1.2406443139005008,0.06779771370114408,-0.7320320274758644,-0.7711414889311853,0.27995507244626977,0.9809348564029311,0.21790368563542076,-1.2548950636768987,-1.078315411049725,0.763575060042904,1.819696095688003,0.034775083029572273,-1.4585666519877516,-0.16556100590015255,0.3603999455705679,-0.037803023882756415,0.44402302795629633,0.6710283990269017,-0.03255886372501707,-1.0503433303661942,-0.7010108437203914,0.5805397423274213,1.0183415220091532,0.4947714154225037,-0.579744320104815,-1.750679355075487,-0.24147860647570518,1.7255115646749424,0.5131847200995957,-0.8229830726319095,-0.26422288327593646,-0.2887456615873337,0.1910185404023852,0.0983823746359632,-0.021772894446633488,0.6831185402431135,-0.6306965359555619,-1.0998508151341992,1.5051821315723928,1.1535672380517923,-2.362070338185733,0.19891583679922328,2.165078391095042,-0.18987875684429517,-1.7058068077876336,-0.7942913883411543,1.0281645696437394,0.7136242883961493,-0.21720621290615422,-0.26635789322305004,-1.3901610525800763,0.22530675471080386,2.373843003409125,-0.07230503796576492,-2.4523998626635772,-0.5389836204011224,2.6524387840215113,0.6976285117460805,-2.36791505847602,-1.2530113958916624,1.3514303660707414,1.2355695505193909,-0.9447315747329994,-0.42556165098817933,0.9431523309399464,-1.377827535652059,-0.0336720175085596,2.898133145985153,-0.26292549918853353,-2.472195126730283,-0.4717138905234096,1.047775176996075,0.5488355836377908,0.3952293708247806,-0.5229610759075679,0.02252216678019827,0.8134409923308945,-1.4723900214244992,-0.0639874078582956,2.1273424870205493,-0.4330166672487126,-1.4647148059867714,0.022532654041917313,-0.8630965657859608,0.46466778249348467,2.2590573823323954],\"y\":[-0.49215281235338104,0.611673536186444,1.463073853630852,-0.4150328609368631,-1.0025298055658278,-0.37953861403395917,-1.9734756841188605,0.26268797844376285,2.13459366805806,-0.34628171303956456,-0.2552216143664235,0.0990730414898711,-0.1664021650919436,0.7668541147154667,-1.4078162637185496,-0.137715348143341,0.2824609177706932,-2.052831882468722,1.0812804639322025,1.4006580534847566,-0.9771550752666032,1.3063052311275598,0.03395498274532284,-1.0111813664950466,0.03265467727739565,-0.7372072386478666,-0.12078969712439049,1.8718137695913697,-1.366513616755524,-0.850371319750839,1.7692921609598404,-0.6373802003260598,-0.19598426437597924,0.4372877326279205,-1.3546143840973761,0.5424150412482115,1.6760755751104028,-0.16628796579691074,0.40984299471154956,0.6278955028277188,-1.6470721424233274,-1.174085368977309,0.2046174168148081,0.4868478194018406,1.005114336363661,1.3485317109143167,0.02216297931100041,-2.161983902621093,-0.5439436215840425,0.35276043511792626,1.3819564152909034,0.7706680947377674,-0.655137456303262,0.24595745351066775,-0.47699502095801366,0.07272846499478366,0.4300882318926309,-0.23543066663952117,-0.26280881059660877,-1.0402179313405973,1.0215512906315787,0.9879478288981305,0.026944535964787096,-0.2074024555013662,-0.36770893835621415,0.7953407624870893,0.6672744155276722,-0.6590929645854646,-1.1137747995115357,-1.1296601049138961,0.2788395624557217,1.8273840655865772,0.7485194702558602,-0.8415439611930662,-0.5282162364453751,-0.8992048495501458,0.10866823937047743,0.9216794694932947,0.755988354716765,-0.03162863908621651,-1.5513360089607406,-1.0470446536066356,1.041457676149161,0.937906589908362,0.6625930502510695,-0.24306495257451194,-1.7601381548192423,-0.7099992342343304,1.3977155477192524,0.15286949581336612,0.5754519485207025,-0.057087113111900616,-1.092545685073497,0.6880217536162085,0.2430415441841801,-0.9354178705993517,0.6720553259720174,0.23715405112472576,-1.555979555863461,0.9159024267362547,0.20192081789440855,-1.331130068046738,1.5039107257603939,1.0911221306455166,-0.11007599449595368,-0.9261090634423843,-1.6561122353389168,1.8020968679043814,-0.22959030161081442,-0.6178994976472284,0.15263468342380287,-0.8832241292316064,0.9387169585159373,0.8539677221116893,-0.16861543382814353,-0.5836941672495265,-0.08470379142405059,1.9063387434529973,0.13465369147312645,-1.0165125873586858,-1.2111220661776854,-0.2519636861551954,2.3332948513183998,-1.1011199291852043,-0.9587637444638905,0.820109637295535,-1.4811619951898547,1.2671652267787086,2.7094836373833635,-0.3688893788317813,-1.5685659249278412,-0.9151008937357618,-0.9093952282924552,-0.2944789950683896,1.7920770442784648,-0.6068748419189628,-0.33000814625098196,1.0818854307328074,-1.9467606215579927,0.7211278808689273,2.7872095319165937,-1.103055651874312,-1.2634162762188985],\"z\":[-0.04512910655146342,0.3362345621416504,1.8210603052014143,0.49986549179787854,1.1404431648036113,0.28359017742966475,-0.8347182851927645,-0.2507042381430238,-1.489282697507711,0.13142750940646478,0.8188116811136263,-0.43178962033266965,0.4393958594560026,1.150020973791882,-1.4390591145877523,0.5459567545563166,-1.374093775493809,-1.1336586273821772,-0.13688884490454206,-2.035147217364193,1.444144900146093,1.279651601114195,0.40002540056131836,1.0833351338716724,1.2673618584776967,0.16433247651721206,0.23255417437018328,0.3241889147947283,-0.7786062240192911,1.0523986788074764,-0.516030875124952,-1.0983265909769186,0.6825553770138838,-1.4922824748807237,-0.5023110312089353,-0.7280328036651507,0.06333065424442087,0.1067296917502719,1.4068932118867168,0.787161292511331,0.23279727953204257,-0.21199446463447263,-1.8062855390610375,0.19581775428023612,-0.36892779181437685,0.7291582594025844,0.22501344107018373,0.35620503782150253,0.3763167568409105,-1.965045499220294,0.7888335541811969,-0.4857347339209563,0.9782970503446998,0.5136013504109036,-0.45911215661584415,1.423278082168127,-1.2965050002251683,0.3528076096112066,-1.153320942091235,-0.6923061619152759,-0.01717160067714902,-1.2205880660632695,0.6787989510774349,-0.2978710025831011,0.9440702047732292,0.8465643698646541,0.33362019954244665,0.15800958756591468,-0.3199512273881633,-0.6951076824822189,-1.4078179784183107,-0.4309405897609092,-0.41897141153874373,0.7235879031474733,-0.22317472709349664,-0.7626777456898598,0.08942132001514111,-0.32533468870045135,0.6449541992667543,0.3696450985826133,-0.0745381672135034,0.01037793248068228,0.05723508698949445,0.0032768671884713585,0.6737771329598996,0.6378029811472312,0.11184024801123858,-0.058086703005069275,-0.6773061582999274,-0.7151143323157841,0.9700804855526814,-0.3615053614460115,-0.07807717157586481,0.694200620146712,-0.7862171729099547,-0.03678710566736211,-0.7167908982194355,0.44725618837499026,-1.2285996828900698,0.21402060411020912,-1.9811791452143417,0.7528221332745529,0.788556447972997,-0.6208215511958831,2.439949134343974,-0.3213197188401568,1.0613934396202043,0.6807416759757658,-1.1688807490782498,0.4153059320893765,-1.1290040138119601,-0.1562784958225089,0.3796575503066232,-2.0436928351540966,0.9964368064805003,-0.24263130328728846,1.2057021495853577,0.1817090236325938,0.10023981282472484,1.8050159605373157,-0.9513624281642186,-0.3215665763774403,0.11307789753024733,-1.634932217562691,-0.04138968966070459,-1.6683273130262546,-1.128865506118643,1.0107187584750876,-0.907737213787072,1.9194513380003575,0.6791023362369096,0.7575114106454178,-1.436501155246793,-1.234796034578361,0.3274684572332035,-1.9509525998115955,1.1423143067367096,-0.9402333858869922,0.072257944344243,1.3674868563738451,0.7089108453911123,1.208109414366833,1.102319589194113],\"type\":\"scatter3d\"}],                        {\"template\":{\"data\":{\"bar\":[{\"error_x\":{\"color\":\"#2a3f5f\"},\"error_y\":{\"color\":\"#2a3f5f\"},\"marker\":{\"line\":{\"color\":\"#E5ECF6\",\"width\":0.5},\"pattern\":{\"fillmode\":\"overlay\",\"size\":10,\"solidity\":0.2}},\"type\":\"bar\"}],\"barpolar\":[{\"marker\":{\"line\":{\"color\":\"#E5ECF6\",\"width\":0.5},\"pattern\":{\"fillmode\":\"overlay\",\"size\":10,\"solidity\":0.2}},\"type\":\"barpolar\"}],\"carpet\":[{\"aaxis\":{\"endlinecolor\":\"#2a3f5f\",\"gridcolor\":\"white\",\"linecolor\":\"white\",\"minorgridcolor\":\"white\",\"startlinecolor\":\"#2a3f5f\"},\"baxis\":{\"endlinecolor\":\"#2a3f5f\",\"gridcolor\":\"white\",\"linecolor\":\"white\",\"minorgridcolor\":\"white\",\"startlinecolor\":\"#2a3f5f\"},\"type\":\"carpet\"}],\"choropleth\":[{\"colorbar\":{\"outlinewidth\":0,\"ticks\":\"\"},\"type\":\"choropleth\"}],\"contour\":[{\"colorbar\":{\"outlinewidth\":0,\"ticks\":\"\"},\"colorscale\":[[0.0,\"#0d0887\"],[0.1111111111111111,\"#46039f\"],[0.2222222222222222,\"#7201a8\"],[0.3333333333333333,\"#9c179e\"],[0.4444444444444444,\"#bd3786\"],[0.5555555555555556,\"#d8576b\"],[0.6666666666666666,\"#ed7953\"],[0.7777777777777778,\"#fb9f3a\"],[0.8888888888888888,\"#fdca26\"],[1.0,\"#f0f921\"]],\"type\":\"contour\"}],\"contourcarpet\":[{\"colorbar\":{\"outlinewidth\":0,\"ticks\":\"\"},\"type\":\"contourcarpet\"}],\"heatmap\":[{\"colorbar\":{\"outlinewidth\":0,\"ticks\":\"\"},\"colorscale\":[[0.0,\"#0d0887\"],[0.1111111111111111,\"#46039f\"],[0.2222222222222222,\"#7201a8\"],[0.3333333333333333,\"#9c179e\"],[0.4444444444444444,\"#bd3786\"],[0.5555555555555556,\"#d8576b\"],[0.6666666666666666,\"#ed7953\"],[0.7777777777777778,\"#fb9f3a\"],[0.8888888888888888,\"#fdca26\"],[1.0,\"#f0f921\"]],\"type\":\"heatmap\"}],\"heatmapgl\":[{\"colorbar\":{\"outlinewidth\":0,\"ticks\":\"\"},\"colorscale\":[[0.0,\"#0d0887\"],[0.1111111111111111,\"#46039f\"],[0.2222222222222222,\"#7201a8\"],[0.3333333333333333,\"#9c179e\"],[0.4444444444444444,\"#bd3786\"],[0.5555555555555556,\"#d8576b\"],[0.6666666666666666,\"#ed7953\"],[0.7777777777777778,\"#fb9f3a\"],[0.8888888888888888,\"#fdca26\"],[1.0,\"#f0f921\"]],\"type\":\"heatmapgl\"}],\"histogram\":[{\"marker\":{\"pattern\":{\"fillmode\":\"overlay\",\"size\":10,\"solidity\":0.2}},\"type\":\"histogram\"}],\"histogram2d\":[{\"colorbar\":{\"outlinewidth\":0,\"ticks\":\"\"},\"colorscale\":[[0.0,\"#0d0887\"],[0.1111111111111111,\"#46039f\"],[0.2222222222222222,\"#7201a8\"],[0.3333333333333333,\"#9c179e\"],[0.4444444444444444,\"#bd3786\"],[0.5555555555555556,\"#d8576b\"],[0.6666666666666666,\"#ed7953\"],[0.7777777777777778,\"#fb9f3a\"],[0.8888888888888888,\"#fdca26\"],[1.0,\"#f0f921\"]],\"type\":\"histogram2d\"}],\"histogram2dcontour\":[{\"colorbar\":{\"outlinewidth\":0,\"ticks\":\"\"},\"colorscale\":[[0.0,\"#0d0887\"],[0.1111111111111111,\"#46039f\"],[0.2222222222222222,\"#7201a8\"],[0.3333333333333333,\"#9c179e\"],[0.4444444444444444,\"#bd3786\"],[0.5555555555555556,\"#d8576b\"],[0.6666666666666666,\"#ed7953\"],[0.7777777777777778,\"#fb9f3a\"],[0.8888888888888888,\"#fdca26\"],[1.0,\"#f0f921\"]],\"type\":\"histogram2dcontour\"}],\"mesh3d\":[{\"colorbar\":{\"outlinewidth\":0,\"ticks\":\"\"},\"type\":\"mesh3d\"}],\"parcoords\":[{\"line\":{\"colorbar\":{\"outlinewidth\":0,\"ticks\":\"\"}},\"type\":\"parcoords\"}],\"pie\":[{\"automargin\":true,\"type\":\"pie\"}],\"scatter\":[{\"marker\":{\"colorbar\":{\"outlinewidth\":0,\"ticks\":\"\"}},\"type\":\"scatter\"}],\"scatter3d\":[{\"line\":{\"colorbar\":{\"outlinewidth\":0,\"ticks\":\"\"}},\"marker\":{\"colorbar\":{\"outlinewidth\":0,\"ticks\":\"\"}},\"type\":\"scatter3d\"}],\"scattercarpet\":[{\"marker\":{\"colorbar\":{\"outlinewidth\":0,\"ticks\":\"\"}},\"type\":\"scattercarpet\"}],\"scattergeo\":[{\"marker\":{\"colorbar\":{\"outlinewidth\":0,\"ticks\":\"\"}},\"type\":\"scattergeo\"}],\"scattergl\":[{\"marker\":{\"colorbar\":{\"outlinewidth\":0,\"ticks\":\"\"}},\"type\":\"scattergl\"}],\"scattermapbox\":[{\"marker\":{\"colorbar\":{\"outlinewidth\":0,\"ticks\":\"\"}},\"type\":\"scattermapbox\"}],\"scatterpolar\":[{\"marker\":{\"colorbar\":{\"outlinewidth\":0,\"ticks\":\"\"}},\"type\":\"scatterpolar\"}],\"scatterpolargl\":[{\"marker\":{\"colorbar\":{\"outlinewidth\":0,\"ticks\":\"\"}},\"type\":\"scatterpolargl\"}],\"scatterternary\":[{\"marker\":{\"colorbar\":{\"outlinewidth\":0,\"ticks\":\"\"}},\"type\":\"scatterternary\"}],\"surface\":[{\"colorbar\":{\"outlinewidth\":0,\"ticks\":\"\"},\"colorscale\":[[0.0,\"#0d0887\"],[0.1111111111111111,\"#46039f\"],[0.2222222222222222,\"#7201a8\"],[0.3333333333333333,\"#9c179e\"],[0.4444444444444444,\"#bd3786\"],[0.5555555555555556,\"#d8576b\"],[0.6666666666666666,\"#ed7953\"],[0.7777777777777778,\"#fb9f3a\"],[0.8888888888888888,\"#fdca26\"],[1.0,\"#f0f921\"]],\"type\":\"surface\"}],\"table\":[{\"cells\":{\"fill\":{\"color\":\"#EBF0F8\"},\"line\":{\"color\":\"white\"}},\"header\":{\"fill\":{\"color\":\"#C8D4E3\"},\"line\":{\"color\":\"white\"}},\"type\":\"table\"}]},\"layout\":{\"annotationdefaults\":{\"arrowcolor\":\"#2a3f5f\",\"arrowhead\":0,\"arrowwidth\":1},\"autotypenumbers\":\"strict\",\"coloraxis\":{\"colorbar\":{\"outlinewidth\":0,\"ticks\":\"\"}},\"colorscale\":{\"diverging\":[[0,\"#8e0152\"],[0.1,\"#c51b7d\"],[0.2,\"#de77ae\"],[0.3,\"#f1b6da\"],[0.4,\"#fde0ef\"],[0.5,\"#f7f7f7\"],[0.6,\"#e6f5d0\"],[0.7,\"#b8e186\"],[0.8,\"#7fbc41\"],[0.9,\"#4d9221\"],[1,\"#276419\"]],\"sequential\":[[0.0,\"#0d0887\"],[0.1111111111111111,\"#46039f\"],[0.2222222222222222,\"#7201a8\"],[0.3333333333333333,\"#9c179e\"],[0.4444444444444444,\"#bd3786\"],[0.5555555555555556,\"#d8576b\"],[0.6666666666666666,\"#ed7953\"],[0.7777777777777778,\"#fb9f3a\"],[0.8888888888888888,\"#fdca26\"],[1.0,\"#f0f921\"]],\"sequentialminus\":[[0.0,\"#0d0887\"],[0.1111111111111111,\"#46039f\"],[0.2222222222222222,\"#7201a8\"],[0.3333333333333333,\"#9c179e\"],[0.4444444444444444,\"#bd3786\"],[0.5555555555555556,\"#d8576b\"],[0.6666666666666666,\"#ed7953\"],[0.7777777777777778,\"#fb9f3a\"],[0.8888888888888888,\"#fdca26\"],[1.0,\"#f0f921\"]]},\"colorway\":[\"#636efa\",\"#EF553B\",\"#00cc96\",\"#ab63fa\",\"#FFA15A\",\"#19d3f3\",\"#FF6692\",\"#B6E880\",\"#FF97FF\",\"#FECB52\"],\"font\":{\"color\":\"#2a3f5f\"},\"geo\":{\"bgcolor\":\"white\",\"lakecolor\":\"white\",\"landcolor\":\"#E5ECF6\",\"showlakes\":true,\"showland\":true,\"subunitcolor\":\"white\"},\"hoverlabel\":{\"align\":\"left\"},\"hovermode\":\"closest\",\"mapbox\":{\"style\":\"light\"},\"paper_bgcolor\":\"white\",\"plot_bgcolor\":\"#E5ECF6\",\"polar\":{\"angularaxis\":{\"gridcolor\":\"white\",\"linecolor\":\"white\",\"ticks\":\"\"},\"bgcolor\":\"#E5ECF6\",\"radialaxis\":{\"gridcolor\":\"white\",\"linecolor\":\"white\",\"ticks\":\"\"}},\"scene\":{\"xaxis\":{\"backgroundcolor\":\"#E5ECF6\",\"gridcolor\":\"white\",\"gridwidth\":2,\"linecolor\":\"white\",\"showbackground\":true,\"ticks\":\"\",\"zerolinecolor\":\"white\"},\"yaxis\":{\"backgroundcolor\":\"#E5ECF6\",\"gridcolor\":\"white\",\"gridwidth\":2,\"linecolor\":\"white\",\"showbackground\":true,\"ticks\":\"\",\"zerolinecolor\":\"white\"},\"zaxis\":{\"backgroundcolor\":\"#E5ECF6\",\"gridcolor\":\"white\",\"gridwidth\":2,\"linecolor\":\"white\",\"showbackground\":true,\"ticks\":\"\",\"zerolinecolor\":\"white\"}},\"shapedefaults\":{\"line\":{\"color\":\"#2a3f5f\"}},\"ternary\":{\"aaxis\":{\"gridcolor\":\"white\",\"linecolor\":\"white\",\"ticks\":\"\"},\"baxis\":{\"gridcolor\":\"white\",\"linecolor\":\"white\",\"ticks\":\"\"},\"bgcolor\":\"#E5ECF6\",\"caxis\":{\"gridcolor\":\"white\",\"linecolor\":\"white\",\"ticks\":\"\"}},\"title\":{\"x\":0.05},\"xaxis\":{\"automargin\":true,\"gridcolor\":\"white\",\"linecolor\":\"white\",\"ticks\":\"\",\"title\":{\"standoff\":15},\"zerolinecolor\":\"white\",\"zerolinewidth\":2},\"yaxis\":{\"automargin\":true,\"gridcolor\":\"white\",\"linecolor\":\"white\",\"ticks\":\"\",\"title\":{\"standoff\":15},\"zerolinecolor\":\"white\",\"zerolinewidth\":2}}},\"scene\":{\"xaxis\":{\"title\":{\"text\":\"0th\"},\"type\":\"linear\",\"showexponent\":\"all\",\"exponentformat\":\"e\"},\"yaxis\":{\"title\":{\"text\":\"1st\"},\"type\":\"linear\",\"showexponent\":\"all\",\"exponentformat\":\"e\"},\"zaxis\":{\"title\":{\"text\":\"2nd\"},\"type\":\"linear\",\"showexponent\":\"all\",\"exponentformat\":\"e\"}}},                        {\"responsive\": true}                    ).then(function(){\n",
       "                            \n",
       "var gd = document.getElementById('050c82d9-ca4b-4fe0-9b77-f51201c0a6ff');\n",
       "var x = new MutationObserver(function (mutations, observer) {{\n",
       "        var display = window.getComputedStyle(gd).display;\n",
       "        if (!display || display === 'none') {{\n",
       "            console.log([gd, 'removed!']);\n",
       "            Plotly.purge(gd);\n",
       "            observer.disconnect();\n",
       "        }}\n",
       "}});\n",
       "\n",
       "// Listen for the removal of the full notebook cells\n",
       "var notebookContainer = gd.closest('#notebook-container');\n",
       "if (notebookContainer) {{\n",
       "    x.observe(notebookContainer, {childList: true});\n",
       "}}\n",
       "\n",
       "// Listen for the clearing of the current output cell\n",
       "var outputEl = gd.closest('.output');\n",
       "if (outputEl) {{\n",
       "    x.observe(outputEl, {childList: true});\n",
       "}}\n",
       "\n",
       "                        })                };                });            </script>        </div>"
      ]
     },
     "metadata": {},
     "output_type": "display_data"
    }
   ],
   "source": [
    "#mes de enero\n",
    "embedder_periodic = SingleTakensEmbedding(parameters_type=\"search\",time_delay=max_periodic_time_delay,\n",
    "    dimension=max_periodic_dimension)\n",
    "y_periodic_embedded = embedder_periodic.fit_transform(y[\"JAN\"])\n",
    "print(\"El delay encontrado es \", embedder_periodic.time_delay_)\n",
    "print(\"La dimension encontrada es \", embedder_periodic.dimension_)\n",
    "\n",
    "\n",
    "print(f\"Shape of embedded time series: {y_periodic_embedded.shape}\")\n",
    "\n",
    "pca = PCA(n_components=3)\n",
    "y_periodic_embedded_pca = pca.fit_transform(y_periodic_embedded)\n",
    "plot_point_cloud(y_periodic_embedded_pca)"
   ]
  },
  {
   "cell_type": "code",
   "execution_count": 47,
   "metadata": {},
   "outputs": [
    {
     "data": {
      "text/plain": [
       "[<matplotlib.lines.Line2D at 0x2e179000310>]"
      ]
     },
     "execution_count": 47,
     "metadata": {},
     "output_type": "execute_result"
    }
   ],
   "source": [
    "plt.figure(figsize=(9,4))\n",
    "plt.xlabel('Time delay (tau)')\n",
    "plt.ylabel('Mutual Information')\n",
    "plt.plot(delay.dmi(y[\"JAN\"], maxtau=30))"
   ]
  },
  {
   "cell_type": "markdown",
   "metadata": {},
   "source": [
    "### Complejos simpliciales"
   ]
  },
  {
   "cell_type": "code",
   "execution_count": 4,
   "metadata": {},
   "outputs": [
    {
     "data": {
      "text/html": [
       "<div>\n",
       "<style scoped>\n",
       "    .dataframe tbody tr th:only-of-type {\n",
       "        vertical-align: middle;\n",
       "    }\n",
       "\n",
       "    .dataframe tbody tr th {\n",
       "        vertical-align: top;\n",
       "    }\n",
       "\n",
       "    .dataframe thead th {\n",
       "        text-align: right;\n",
       "    }\n",
       "</style>\n",
       "<table border=\"1\" class=\"dataframe\">\n",
       "  <thead>\n",
       "    <tr style=\"text-align: right;\">\n",
       "      <th></th>\n",
       "      <th>JAN</th>\n",
       "      <th>FEB</th>\n",
       "      <th>MAR</th>\n",
       "      <th>APR</th>\n",
       "      <th>MAY</th>\n",
       "      <th>JUN</th>\n",
       "      <th>JUL</th>\n",
       "      <th>AUG</th>\n",
       "      <th>SEP</th>\n",
       "      <th>OCT</th>\n",
       "      <th>NOV</th>\n",
       "      <th>DEC</th>\n",
       "    </tr>\n",
       "  </thead>\n",
       "  <tbody>\n",
       "    <tr>\n",
       "      <th>JAN</th>\n",
       "      <td>1.000000</td>\n",
       "      <td>0.956577</td>\n",
       "      <td>0.894807</td>\n",
       "      <td>0.764633</td>\n",
       "      <td>0.574411</td>\n",
       "      <td>0.398006</td>\n",
       "      <td>0.174443</td>\n",
       "      <td>0.084676</td>\n",
       "      <td>0.035391</td>\n",
       "      <td>-0.014049</td>\n",
       "      <td>-0.031201</td>\n",
       "      <td>-0.014473</td>\n",
       "    </tr>\n",
       "    <tr>\n",
       "      <th>FEB</th>\n",
       "      <td>0.956577</td>\n",
       "      <td>1.000000</td>\n",
       "      <td>0.944026</td>\n",
       "      <td>0.828588</td>\n",
       "      <td>0.658811</td>\n",
       "      <td>0.461418</td>\n",
       "      <td>0.263883</td>\n",
       "      <td>0.175525</td>\n",
       "      <td>0.113844</td>\n",
       "      <td>0.061429</td>\n",
       "      <td>0.052641</td>\n",
       "      <td>0.060080</td>\n",
       "    </tr>\n",
       "    <tr>\n",
       "      <th>MAR</th>\n",
       "      <td>0.894807</td>\n",
       "      <td>0.944026</td>\n",
       "      <td>1.000000</td>\n",
       "      <td>0.878627</td>\n",
       "      <td>0.731230</td>\n",
       "      <td>0.532904</td>\n",
       "      <td>0.335967</td>\n",
       "      <td>0.249785</td>\n",
       "      <td>0.189424</td>\n",
       "      <td>0.127011</td>\n",
       "      <td>0.130807</td>\n",
       "      <td>0.130586</td>\n",
       "    </tr>\n",
       "    <tr>\n",
       "      <th>APR</th>\n",
       "      <td>0.764633</td>\n",
       "      <td>0.828588</td>\n",
       "      <td>0.878627</td>\n",
       "      <td>1.000000</td>\n",
       "      <td>0.867935</td>\n",
       "      <td>0.684655</td>\n",
       "      <td>0.515972</td>\n",
       "      <td>0.439223</td>\n",
       "      <td>0.374703</td>\n",
       "      <td>0.300043</td>\n",
       "      <td>0.282053</td>\n",
       "      <td>0.267816</td>\n",
       "    </tr>\n",
       "    <tr>\n",
       "      <th>MAY</th>\n",
       "      <td>0.574411</td>\n",
       "      <td>0.658811</td>\n",
       "      <td>0.731230</td>\n",
       "      <td>0.867935</td>\n",
       "      <td>1.000000</td>\n",
       "      <td>0.846134</td>\n",
       "      <td>0.708509</td>\n",
       "      <td>0.628158</td>\n",
       "      <td>0.582422</td>\n",
       "      <td>0.516090</td>\n",
       "      <td>0.499839</td>\n",
       "      <td>0.484755</td>\n",
       "    </tr>\n",
       "    <tr>\n",
       "      <th>JUN</th>\n",
       "      <td>0.398006</td>\n",
       "      <td>0.461418</td>\n",
       "      <td>0.532904</td>\n",
       "      <td>0.684655</td>\n",
       "      <td>0.846134</td>\n",
       "      <td>1.000000</td>\n",
       "      <td>0.867899</td>\n",
       "      <td>0.799871</td>\n",
       "      <td>0.740811</td>\n",
       "      <td>0.722307</td>\n",
       "      <td>0.696742</td>\n",
       "      <td>0.687840</td>\n",
       "    </tr>\n",
       "    <tr>\n",
       "      <th>JUL</th>\n",
       "      <td>0.174443</td>\n",
       "      <td>0.263883</td>\n",
       "      <td>0.335967</td>\n",
       "      <td>0.515972</td>\n",
       "      <td>0.708509</td>\n",
       "      <td>0.867899</td>\n",
       "      <td>1.000000</td>\n",
       "      <td>0.928383</td>\n",
       "      <td>0.877489</td>\n",
       "      <td>0.847765</td>\n",
       "      <td>0.824890</td>\n",
       "      <td>0.809726</td>\n",
       "    </tr>\n",
       "    <tr>\n",
       "      <th>AUG</th>\n",
       "      <td>0.084676</td>\n",
       "      <td>0.175525</td>\n",
       "      <td>0.249785</td>\n",
       "      <td>0.439223</td>\n",
       "      <td>0.628158</td>\n",
       "      <td>0.799871</td>\n",
       "      <td>0.928383</td>\n",
       "      <td>1.000000</td>\n",
       "      <td>0.931102</td>\n",
       "      <td>0.910146</td>\n",
       "      <td>0.876710</td>\n",
       "      <td>0.868339</td>\n",
       "    </tr>\n",
       "    <tr>\n",
       "      <th>SEP</th>\n",
       "      <td>0.035391</td>\n",
       "      <td>0.113844</td>\n",
       "      <td>0.189424</td>\n",
       "      <td>0.374703</td>\n",
       "      <td>0.582422</td>\n",
       "      <td>0.740811</td>\n",
       "      <td>0.877489</td>\n",
       "      <td>0.931102</td>\n",
       "      <td>1.000000</td>\n",
       "      <td>0.940134</td>\n",
       "      <td>0.915314</td>\n",
       "      <td>0.887477</td>\n",
       "    </tr>\n",
       "    <tr>\n",
       "      <th>OCT</th>\n",
       "      <td>-0.014049</td>\n",
       "      <td>0.061429</td>\n",
       "      <td>0.127011</td>\n",
       "      <td>0.300043</td>\n",
       "      <td>0.516090</td>\n",
       "      <td>0.722307</td>\n",
       "      <td>0.847765</td>\n",
       "      <td>0.910146</td>\n",
       "      <td>0.940134</td>\n",
       "      <td>1.000000</td>\n",
       "      <td>0.954730</td>\n",
       "      <td>0.938329</td>\n",
       "    </tr>\n",
       "    <tr>\n",
       "      <th>NOV</th>\n",
       "      <td>-0.031201</td>\n",
       "      <td>0.052641</td>\n",
       "      <td>0.130807</td>\n",
       "      <td>0.282053</td>\n",
       "      <td>0.499839</td>\n",
       "      <td>0.696742</td>\n",
       "      <td>0.824890</td>\n",
       "      <td>0.876710</td>\n",
       "      <td>0.915314</td>\n",
       "      <td>0.954730</td>\n",
       "      <td>1.000000</td>\n",
       "      <td>0.962988</td>\n",
       "    </tr>\n",
       "    <tr>\n",
       "      <th>DEC</th>\n",
       "      <td>-0.014473</td>\n",
       "      <td>0.060080</td>\n",
       "      <td>0.130586</td>\n",
       "      <td>0.267816</td>\n",
       "      <td>0.484755</td>\n",
       "      <td>0.687840</td>\n",
       "      <td>0.809726</td>\n",
       "      <td>0.868339</td>\n",
       "      <td>0.887477</td>\n",
       "      <td>0.938329</td>\n",
       "      <td>0.962988</td>\n",
       "      <td>1.000000</td>\n",
       "    </tr>\n",
       "  </tbody>\n",
       "</table>\n",
       "</div>"
      ],
      "text/plain": [
       "          JAN       FEB       MAR       APR       MAY       JUN       JUL  \\\n",
       "JAN  1.000000  0.956577  0.894807  0.764633  0.574411  0.398006  0.174443   \n",
       "FEB  0.956577  1.000000  0.944026  0.828588  0.658811  0.461418  0.263883   \n",
       "MAR  0.894807  0.944026  1.000000  0.878627  0.731230  0.532904  0.335967   \n",
       "APR  0.764633  0.828588  0.878627  1.000000  0.867935  0.684655  0.515972   \n",
       "MAY  0.574411  0.658811  0.731230  0.867935  1.000000  0.846134  0.708509   \n",
       "JUN  0.398006  0.461418  0.532904  0.684655  0.846134  1.000000  0.867899   \n",
       "JUL  0.174443  0.263883  0.335967  0.515972  0.708509  0.867899  1.000000   \n",
       "AUG  0.084676  0.175525  0.249785  0.439223  0.628158  0.799871  0.928383   \n",
       "SEP  0.035391  0.113844  0.189424  0.374703  0.582422  0.740811  0.877489   \n",
       "OCT -0.014049  0.061429  0.127011  0.300043  0.516090  0.722307  0.847765   \n",
       "NOV -0.031201  0.052641  0.130807  0.282053  0.499839  0.696742  0.824890   \n",
       "DEC -0.014473  0.060080  0.130586  0.267816  0.484755  0.687840  0.809726   \n",
       "\n",
       "          AUG       SEP       OCT       NOV       DEC  \n",
       "JAN  0.084676  0.035391 -0.014049 -0.031201 -0.014473  \n",
       "FEB  0.175525  0.113844  0.061429  0.052641  0.060080  \n",
       "MAR  0.249785  0.189424  0.127011  0.130807  0.130586  \n",
       "APR  0.439223  0.374703  0.300043  0.282053  0.267816  \n",
       "MAY  0.628158  0.582422  0.516090  0.499839  0.484755  \n",
       "JUN  0.799871  0.740811  0.722307  0.696742  0.687840  \n",
       "JUL  0.928383  0.877489  0.847765  0.824890  0.809726  \n",
       "AUG  1.000000  0.931102  0.910146  0.876710  0.868339  \n",
       "SEP  0.931102  1.000000  0.940134  0.915314  0.887477  \n",
       "OCT  0.910146  0.940134  1.000000  0.954730  0.938329  \n",
       "NOV  0.876710  0.915314  0.954730  1.000000  0.962988  \n",
       "DEC  0.868339  0.887477  0.938329  0.962988  1.000000  "
      ]
     },
     "execution_count": 4,
     "metadata": {},
     "output_type": "execute_result"
    }
   ],
   "source": [
    "cormat = datos.corr()\n",
    "cormat=cormat.drop(['Year'])\n",
    "cormat=cormat.drop(['Year'],axis=1)\n",
    "cormat"
   ]
  },
  {
   "cell_type": "code",
   "execution_count": 5,
   "metadata": {},
   "outputs": [],
   "source": [
    "#dist = pd.DataFrame(squareform(pdist(cormat), \"euclidean\"), columns=data.index.values, index=data.index.values)\n",
    "#dist"
   ]
  },
  {
   "cell_type": "markdown",
   "metadata": {},
   "source": [
    "### Homología Persistente"
   ]
  },
  {
   "cell_type": "markdown",
   "metadata": {},
   "source": [
    "### Digramas de persistencia"
   ]
  },
  {
   "cell_type": "markdown",
   "metadata": {},
   "source": [
    "### Codigos de barras"
   ]
  },
  {
   "cell_type": "markdown",
   "metadata": {},
   "source": [
    "### Diagramas de densidad"
   ]
  },
  {
   "cell_type": "markdown",
   "metadata": {},
   "source": []
  }
 ],
 "metadata": {
  "kernelspec": {
   "display_name": "Python 3 (ipykernel)",
   "language": "python",
   "name": "python3"
  },
  "language_info": {
   "codemirror_mode": {
    "name": "ipython",
    "version": 3
   },
   "file_extension": ".py",
   "mimetype": "text/x-python",
   "name": "python",
   "nbconvert_exporter": "python",
   "pygments_lexer": "ipython3",
   "version": "3.9.12"
  }
 },
 "nbformat": 4,
 "nbformat_minor": 4
}
